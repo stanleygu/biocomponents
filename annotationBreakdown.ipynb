{
 "metadata": {
  "signature": "sha256:2bedb1792b882d8193a68c7a1bcda2745ffef8e7c6a3a3abd45a629dd232c761"
 },
 "nbformat": 3,
 "nbformat_minor": 0,
 "worksheets": [
  {
   "cells": [
    {
     "cell_type": "code",
     "collapsed": false,
     "input": [
      "!pip install rdflib"
     ],
     "language": "python",
     "metadata": {},
     "outputs": [
      {
       "output_type": "stream",
       "stream": "stdout",
       "text": [
        "Downloading/unpacking rdflib\r\n"
       ]
      },
      {
       "output_type": "stream",
       "stream": "stdout",
       "text": [
        "  Downloading rdflib-4.1.2.tar.gz (868kB): \r",
        "  Downloading rdflib-4.1.2.tar.gz (868kB):   0%  4.1kB\r",
        "  Downloading rdflib-4.1.2.tar.gz (868kB):   0%  8.2kB"
       ]
      },
      {
       "output_type": "stream",
       "stream": "stdout",
       "text": [
        "\r",
        "  Downloading rdflib-4.1.2.tar.gz (868kB):   1%  12kB \r",
        "  Downloading rdflib-4.1.2.tar.gz (868kB):   1%  16kB\r",
        "  Downloading rdflib-4.1.2.tar.gz (868kB):   2%  20kB\r",
        "  Downloading rdflib-4.1.2.tar.gz (868kB):   2%  24kB\r",
        "  Downloading rdflib-4.1.2.tar.gz (868kB):   3%  28kB\r",
        "  Downloading rdflib-4.1.2.tar.gz (868kB):   3%  32kB\r",
        "  Downloading rdflib-4.1.2.tar.gz (868kB):   4%  36kB\r",
        "  Downloading rdflib-4.1.2.tar.gz (868kB):   4%  40kB\r",
        "  Downloading rdflib-4.1.2.tar.gz (868kB):   5%  45kB\r",
        "  Downloading rdflib-4.1.2.tar.gz (868kB):   5%  49kB\r",
        "  Downloading rdflib-4.1.2.tar.gz (868kB):   6%  53kB\r",
        "  Downloading rdflib-4.1.2.tar.gz (868kB):   6%  57kB"
       ]
      },
      {
       "output_type": "stream",
       "stream": "stdout",
       "text": [
        "\r",
        "  Downloading rdflib-4.1.2.tar.gz (868kB):   7%  61kB\r",
        "  Downloading rdflib-4.1.2.tar.gz (868kB):   7%  65kB\r",
        "  Downloading rdflib-4.1.2.tar.gz (868kB):   8%  69kB\r",
        "  Downloading rdflib-4.1.2.tar.gz (868kB):   8%  73kB\r",
        "  Downloading rdflib-4.1.2.tar.gz (868kB):   8%  77kB\r",
        "  Downloading rdflib-4.1.2.tar.gz (868kB):   9%  81kB\r",
        "  Downloading rdflib-4.1.2.tar.gz (868kB):   9%  86kB\r",
        "  Downloading rdflib-4.1.2.tar.gz (868kB):  10%  90kB\r",
        "  Downloading rdflib-4.1.2.tar.gz (868kB):  10%  94kB\r",
        "  Downloading rdflib-4.1.2.tar.gz (868kB):  11%  98kB\r",
        "  Downloading rdflib-4.1.2.tar.gz (868kB):  11%  102kB\r",
        "  Downloading rdflib-4.1.2.tar.gz (868kB):  12%  106kB\r",
        "  Downloading rdflib-4.1.2.tar.gz (868kB):  12%  110kB\r",
        "  Downloading rdflib-4.1.2.tar.gz (868kB):  13%  114kB\r",
        "  Downloading rdflib-4.1.2.tar.gz (868kB):  13%  118kB\r",
        "  Downloading rdflib-4.1.2.tar.gz (868kB):  14%  122kB\r",
        "  Downloading rdflib-4.1.2.tar.gz (868kB):  14%  126kB"
       ]
      },
      {
       "output_type": "stream",
       "stream": "stdout",
       "text": [
        "\r",
        "  Downloading rdflib-4.1.2.tar.gz (868kB):  15%  131kB\r",
        "  Downloading rdflib-4.1.2.tar.gz (868kB):  15%  135kB\r",
        "  Downloading rdflib-4.1.2.tar.gz (868kB):  16%  139kB\r",
        "  Downloading rdflib-4.1.2.tar.gz (868kB):  16%  143kB\r",
        "  Downloading rdflib-4.1.2.tar.gz (868kB):  16%  147kB\r",
        "  Downloading rdflib-4.1.2.tar.gz (868kB):  17%  151kB\r",
        "  Downloading rdflib-4.1.2.tar.gz (868kB):  17%  155kB\r",
        "  Downloading rdflib-4.1.2.tar.gz (868kB):  18%  159kB\r",
        "  Downloading rdflib-4.1.2.tar.gz (868kB):  18%  163kB\r",
        "  Downloading rdflib-4.1.2.tar.gz (868kB):  19%  167kB\r",
        "  Downloading rdflib-4.1.2.tar.gz (868kB):  19%  172kB\r",
        "  Downloading rdflib-4.1.2.tar.gz (868kB):  20%  176kB\r",
        "  Downloading rdflib-4.1.2.tar.gz (868kB):  20%  180kB\r",
        "  Downloading rdflib-4.1.2.tar.gz (868kB):  21%  184kB\r",
        "  Downloading rdflib-4.1.2.tar.gz (868kB):  21%  188kB\r",
        "  Downloading rdflib-4.1.2.tar.gz (868kB):  22%  192kB\r",
        "  Downloading rdflib-4.1.2.tar.gz (868kB):  22%  196kB\r",
        "  Downloading rdflib-4.1.2.tar.gz (868kB):  23%  200kB\r",
        "  Downloading rdflib-4.1.2.tar.gz (868kB):  23%  204kB\r",
        "  Downloading rdflib-4.1.2.tar.gz (868kB):  24%  208kB\r",
        "  Downloading rdflib-4.1.2.tar.gz (868kB):  24%  212kB"
       ]
      },
      {
       "output_type": "stream",
       "stream": "stdout",
       "text": [
        "\r",
        "  Downloading rdflib-4.1.2.tar.gz (868kB):  24%  217kB\r",
        "  Downloading rdflib-4.1.2.tar.gz (868kB):  25%  221kB\r",
        "  Downloading rdflib-4.1.2.tar.gz (868kB):  25%  225kB\r",
        "  Downloading rdflib-4.1.2.tar.gz (868kB):  26%  229kB\r",
        "  Downloading rdflib-4.1.2.tar.gz (868kB):  26%  233kB\r",
        "  Downloading rdflib-4.1.2.tar.gz (868kB):  27%  237kB\r",
        "  Downloading rdflib-4.1.2.tar.gz (868kB):  27%  241kB\r",
        "  Downloading rdflib-4.1.2.tar.gz (868kB):  28%  245kB\r",
        "  Downloading rdflib-4.1.2.tar.gz (868kB):  28%  249kB\r",
        "  Downloading rdflib-4.1.2.tar.gz (868kB):  29%  253kB\r",
        "  Downloading rdflib-4.1.2.tar.gz (868kB):  29%  258kB\r",
        "  Downloading rdflib-4.1.2.tar.gz (868kB):  30%  262kB\r",
        "  Downloading rdflib-4.1.2.tar.gz (868kB):  30%  266kB\r",
        "  Downloading rdflib-4.1.2.tar.gz (868kB):  31%  270kB\r",
        "  Downloading rdflib-4.1.2.tar.gz (868kB):  31%  274kB\r",
        "  Downloading rdflib-4.1.2.tar.gz (868kB):  32%  278kB\r",
        "  Downloading rdflib-4.1.2.tar.gz (868kB):  32%  282kB\r",
        "  Downloading rdflib-4.1.2.tar.gz (868kB):  32%  286kB\r",
        "  Downloading rdflib-4.1.2.tar.gz (868kB):  33%  290kB\r",
        "  Downloading rdflib-4.1.2.tar.gz (868kB):  33%  294kB\r",
        "  Downloading rdflib-4.1.2.tar.gz (868kB):  34%  299kB\r",
        "  Downloading rdflib-4.1.2.tar.gz (868kB):  34%  303kB\r",
        "  Downloading rdflib-4.1.2.tar.gz (868kB):  35%  307kB\r",
        "  Downloading rdflib-4.1.2.tar.gz (868kB):  35%  311kB\r",
        "  Downloading rdflib-4.1.2.tar.gz (868kB):  36%  315kB\r",
        "  Downloading rdflib-4.1.2.tar.gz (868kB):  36%  319kB\r",
        "  Downloading rdflib-4.1.2.tar.gz (868kB):  37%  323kB\r",
        "  Downloading rdflib-4.1.2.tar.gz (868kB):  37%  327kB\r",
        "  Downloading rdflib-4.1.2.tar.gz (868kB):  38%  331kB"
       ]
      },
      {
       "output_type": "stream",
       "stream": "stdout",
       "text": [
        "\r",
        "  Downloading rdflib-4.1.2.tar.gz (868kB):  38%  335kB\r",
        "  Downloading rdflib-4.1.2.tar.gz (868kB):  39%  339kB\r",
        "  Downloading rdflib-4.1.2.tar.gz (868kB):  39%  344kB\r",
        "  Downloading rdflib-4.1.2.tar.gz (868kB):  40%  348kB\r",
        "  Downloading rdflib-4.1.2.tar.gz (868kB):  40%  352kB\r",
        "  Downloading rdflib-4.1.2.tar.gz (868kB):  41%  356kB\r",
        "  Downloading rdflib-4.1.2.tar.gz (868kB):  41%  360kB\r",
        "  Downloading rdflib-4.1.2.tar.gz (868kB):  41%  364kB\r",
        "  Downloading rdflib-4.1.2.tar.gz (868kB):  42%  368kB\r",
        "  Downloading rdflib-4.1.2.tar.gz (868kB):  42%  372kB\r",
        "  Downloading rdflib-4.1.2.tar.gz (868kB):  43%  376kB\r",
        "  Downloading rdflib-4.1.2.tar.gz (868kB):  43%  380kB\r",
        "  Downloading rdflib-4.1.2.tar.gz (868kB):  44%  385kB\r",
        "  Downloading rdflib-4.1.2.tar.gz (868kB):  44%  389kB\r",
        "  Downloading rdflib-4.1.2.tar.gz (868kB):  45%  393kB\r",
        "  Downloading rdflib-4.1.2.tar.gz (868kB):  45%  397kB\r",
        "  Downloading rdflib-4.1.2.tar.gz (868kB):  46%  401kB\r",
        "  Downloading rdflib-4.1.2.tar.gz (868kB):  46%  405kB\r",
        "  Downloading rdflib-4.1.2.tar.gz (868kB):  47%  409kB\r",
        "  Downloading rdflib-4.1.2.tar.gz (868kB):  47%  413kB\r",
        "  Downloading rdflib-4.1.2.tar.gz (868kB):  48%  417kB\r",
        "  Downloading rdflib-4.1.2.tar.gz (868kB):  48%  421kB\r",
        "  Downloading rdflib-4.1.2.tar.gz (868kB):  49%  425kB\r",
        "  Downloading rdflib-4.1.2.tar.gz (868kB):  49%  430kB\r",
        "  Downloading rdflib-4.1.2.tar.gz (868kB):  49%  434kB\r",
        "  Downloading rdflib-4.1.2.tar.gz (868kB):  50%  438kB\r",
        "  Downloading rdflib-4.1.2.tar.gz (868kB):  50%  442kB\r",
        "  Downloading rdflib-4.1.2.tar.gz (868kB):  51%  446kB\r",
        "  Downloading rdflib-4.1.2.tar.gz (868kB):  51%  450kB\r",
        "  Downloading rdflib-4.1.2.tar.gz (868kB):  52%  454kB\r",
        "  Downloading rdflib-4.1.2.tar.gz (868kB):  52%  458kB\r",
        "  Downloading rdflib-4.1.2.tar.gz (868kB):  53%  462kB\r",
        "  Downloading rdflib-4.1.2.tar.gz (868kB):  53%  466kB\r",
        "  Downloading rdflib-4.1.2.tar.gz (868kB):  54%  471kB\r",
        "  Downloading rdflib-4.1.2.tar.gz (868kB):  54%  475kB\r",
        "  Downloading rdflib-4.1.2.tar.gz (868kB):  55%  479kB\r",
        "  Downloading rdflib-4.1.2.tar.gz (868kB):  55%  483kB\r",
        "  Downloading rdflib-4.1.2.tar.gz (868kB):  56%  487kB\r",
        "  Downloading rdflib-4.1.2.tar.gz (868kB):  56%  491kB\r",
        "  Downloading rdflib-4.1.2.tar.gz (868kB):  57%  495kB\r",
        "  Downloading rdflib-4.1.2.tar.gz (868kB):  57%  499kB\r",
        "  Downloading rdflib-4.1.2.tar.gz (868kB):  57%  503kB\r",
        "  Downloading rdflib-4.1.2.tar.gz (868kB):  58%  507kB\r",
        "  Downloading rdflib-4.1.2.tar.gz (868kB):  58%  512kB\r",
        "  Downloading rdflib-4.1.2.tar.gz (868kB):  59%  516kB\r",
        "  Downloading rdflib-4.1.2.tar.gz (868kB):  59%  520kB\r",
        "  Downloading rdflib-4.1.2.tar.gz (868kB):  60%  524kB\r",
        "  Downloading rdflib-4.1.2.tar.gz (868kB):  60%  528kB\r",
        "  Downloading rdflib-4.1.2.tar.gz (868kB):  61%  532kB\r",
        "  Downloading rdflib-4.1.2.tar.gz (868kB):  61%  536kB\r",
        "  Downloading rdflib-4.1.2.tar.gz (868kB):  62%  540kB"
       ]
      },
      {
       "output_type": "stream",
       "stream": "stdout",
       "text": [
        "\r",
        "  Downloading rdflib-4.1.2.tar.gz (868kB):  62%  544kB\r",
        "  Downloading rdflib-4.1.2.tar.gz (868kB):  63%  548kB\r",
        "  Downloading rdflib-4.1.2.tar.gz (868kB):  63%  552kB\r",
        "  Downloading rdflib-4.1.2.tar.gz (868kB):  64%  557kB\r",
        "  Downloading rdflib-4.1.2.tar.gz (868kB):  64%  561kB\r",
        "  Downloading rdflib-4.1.2.tar.gz (868kB):  65%  565kB\r",
        "  Downloading rdflib-4.1.2.tar.gz (868kB):  65%  569kB\r",
        "  Downloading rdflib-4.1.2.tar.gz (868kB):  65%  573kB\r",
        "  Downloading rdflib-4.1.2.tar.gz (868kB):  66%  577kB\r",
        "  Downloading rdflib-4.1.2.tar.gz (868kB):  66%  581kB\r",
        "  Downloading rdflib-4.1.2.tar.gz (868kB):  67%  585kB\r",
        "  Downloading rdflib-4.1.2.tar.gz (868kB):  67%  589kB\r",
        "  Downloading rdflib-4.1.2.tar.gz (868kB):  68%  593kB\r",
        "  Downloading rdflib-4.1.2.tar.gz (868kB):  68%  598kB\r",
        "  Downloading rdflib-4.1.2.tar.gz (868kB):  69%  602kB\r",
        "  Downloading rdflib-4.1.2.tar.gz (868kB):  69%  606kB\r",
        "  Downloading rdflib-4.1.2.tar.gz (868kB):  70%  610kB\r",
        "  Downloading rdflib-4.1.2.tar.gz (868kB):  70%  614kB\r",
        "  Downloading rdflib-4.1.2.tar.gz (868kB):  71%  618kB\r",
        "  Downloading rdflib-4.1.2.tar.gz (868kB):  71%  622kB\r",
        "  Downloading rdflib-4.1.2.tar.gz (868kB):  72%  626kB\r",
        "  Downloading rdflib-4.1.2.tar.gz (868kB):  72%  630kB\r",
        "  Downloading rdflib-4.1.2.tar.gz (868kB):  73%  634kB\r",
        "  Downloading rdflib-4.1.2.tar.gz (868kB):  73%  638kB\r",
        "  Downloading rdflib-4.1.2.tar.gz (868kB):  74%  643kB\r",
        "  Downloading rdflib-4.1.2.tar.gz (868kB):  74%  647kB\r",
        "  Downloading rdflib-4.1.2.tar.gz (868kB):  74%  651kB\r",
        "  Downloading rdflib-4.1.2.tar.gz (868kB):  75%  655kB\r",
        "  Downloading rdflib-4.1.2.tar.gz (868kB):  75%  659kB\r",
        "  Downloading rdflib-4.1.2.tar.gz (868kB):  76%  663kB\r",
        "  Downloading rdflib-4.1.2.tar.gz (868kB):  76%  667kB\r",
        "  Downloading rdflib-4.1.2.tar.gz (868kB):  77%  671kB\r",
        "  Downloading rdflib-4.1.2.tar.gz (868kB):  77%  675kB\r",
        "  Downloading rdflib-4.1.2.tar.gz (868kB):  78%  679kB\r",
        "  Downloading rdflib-4.1.2.tar.gz (868kB):  78%  684kB\r",
        "  Downloading rdflib-4.1.2.tar.gz (868kB):  79%  688kB\r",
        "  Downloading rdflib-4.1.2.tar.gz (868kB):  79%  692kB\r",
        "  Downloading rdflib-4.1.2.tar.gz (868kB):  80%  696kB\r",
        "  Downloading rdflib-4.1.2.tar.gz (868kB):  80%  700kB\r",
        "  Downloading rdflib-4.1.2.tar.gz (868kB):  81%  704kB\r",
        "  Downloading rdflib-4.1.2.tar.gz (868kB):  81%  708kB\r",
        "  Downloading rdflib-4.1.2.tar.gz (868kB):  82%  712kB\r",
        "  Downloading rdflib-4.1.2.tar.gz (868kB):  82%  716kB\r",
        "  Downloading rdflib-4.1.2.tar.gz (868kB):  82%  720kB\r",
        "  Downloading rdflib-4.1.2.tar.gz (868kB):  83%  724kB\r",
        "  Downloading rdflib-4.1.2.tar.gz (868kB):  83%  729kB\r",
        "  Downloading rdflib-4.1.2.tar.gz (868kB):  84%  733kB\r",
        "  Downloading rdflib-4.1.2.tar.gz (868kB):  84%  737kB\r",
        "  Downloading rdflib-4.1.2.tar.gz (868kB):  85%  741kB\r",
        "  Downloading rdflib-4.1.2.tar.gz (868kB):  85%  745kB\r",
        "  Downloading rdflib-4.1.2.tar.gz (868kB):  86%  749kB\r",
        "  Downloading rdflib-4.1.2.tar.gz (868kB):  86%  753kB\r",
        "  Downloading rdflib-4.1.2.tar.gz (868kB):  87%  757kB"
       ]
      },
      {
       "output_type": "stream",
       "stream": "stdout",
       "text": [
        "\r",
        "  Downloading rdflib-4.1.2.tar.gz (868kB):  87%  761kB\r",
        "  Downloading rdflib-4.1.2.tar.gz (868kB):  88%  765kB\r",
        "  Downloading rdflib-4.1.2.tar.gz (868kB):  88%  770kB\r",
        "  Downloading rdflib-4.1.2.tar.gz (868kB):  89%  774kB\r",
        "  Downloading rdflib-4.1.2.tar.gz (868kB):  89%  778kB\r",
        "  Downloading rdflib-4.1.2.tar.gz (868kB):  90%  782kB\r",
        "  Downloading rdflib-4.1.2.tar.gz (868kB):  90%  786kB\r",
        "  Downloading rdflib-4.1.2.tar.gz (868kB):  90%  790kB\r",
        "  Downloading rdflib-4.1.2.tar.gz (868kB):  91%  794kB\r",
        "  Downloading rdflib-4.1.2.tar.gz (868kB):  91%  798kB\r",
        "  Downloading rdflib-4.1.2.tar.gz (868kB):  92%  802kB\r",
        "  Downloading rdflib-4.1.2.tar.gz (868kB):  92%  806kB\r",
        "  Downloading rdflib-4.1.2.tar.gz (868kB):  93%  811kB\r",
        "  Downloading rdflib-4.1.2.tar.gz (868kB):  93%  815kB\r",
        "  Downloading rdflib-4.1.2.tar.gz (868kB):  94%  819kB\r",
        "  Downloading rdflib-4.1.2.tar.gz (868kB):  94%  823kB\r",
        "  Downloading rdflib-4.1.2.tar.gz (868kB):  95%  827kB\r",
        "  Downloading rdflib-4.1.2.tar.gz (868kB):  95%  831kB\r",
        "  Downloading rdflib-4.1.2.tar.gz (868kB):  96%  835kB\r",
        "  Downloading rdflib-4.1.2.tar.gz (868kB):  96%  839kB\r",
        "  Downloading rdflib-4.1.2.tar.gz (868kB):  97%  843kB\r",
        "  Downloading rdflib-4.1.2.tar.gz (868kB):  97%  847kB\r",
        "  Downloading rdflib-4.1.2.tar.gz (868kB):  98%  851kB\r",
        "  Downloading rdflib-4.1.2.tar.gz (868kB):  98%  856kB\r",
        "  Downloading rdflib-4.1.2.tar.gz (868kB):  98%  860kB\r",
        "  Downloading rdflib-4.1.2.tar.gz (868kB):  99%  864kB\r",
        "  Downloading rdflib-4.1.2.tar.gz (868kB):  99%  868kB\r",
        "  Downloading rdflib-4.1.2.tar.gz (868kB): 100%  868kB\r",
        "  Downloading rdflib-4.1.2.tar.gz (868kB):            \r",
        "  Downloading rdflib-4.1.2.tar.gz (868kB): 868kB downloaded\r\n"
       ]
      },
      {
       "output_type": "stream",
       "stream": "stdout",
       "text": [
        "  Running setup.py (path:/home/user/.virtualenvs/localpy/build/rdflib/setup.py) egg_info for package rdflib\r\n"
       ]
      },
      {
       "output_type": "stream",
       "stream": "stdout",
       "text": [
        "    \r\n"
       ]
      },
      {
       "output_type": "stream",
       "stream": "stdout",
       "text": [
        "    no previously-included directories found matching 'docs/_build'\r\n",
        "    warning: no previously-included files matching '*.pyc' found anywhere in distribution\r\n",
        "    warning: no previously-included files matching '*$py.class' found anywhere in distribution\r\n"
       ]
      },
      {
       "output_type": "stream",
       "stream": "stdout",
       "text": [
        "Downloading/unpacking isodate (from rdflib)\r\n"
       ]
      },
      {
       "output_type": "stream",
       "stream": "stdout",
       "text": [
        "  Downloading isodate-0.5.0.tar.gz\r\n"
       ]
      },
      {
       "output_type": "stream",
       "stream": "stdout",
       "text": [
        "  Running setup.py (path:/home/user/.virtualenvs/localpy/build/isodate/setup.py) egg_info for package isodate\r\n"
       ]
      },
      {
       "output_type": "stream",
       "stream": "stdout",
       "text": [
        "    \r\n"
       ]
      },
      {
       "output_type": "stream",
       "stream": "stdout",
       "text": [
        "Requirement already satisfied (use --upgrade to upgrade): pyparsing in /usr/lib/python2.7/dist-packages (from rdflib)\r\n",
        "Downloading/unpacking SPARQLWrapper (from rdflib)\r\n"
       ]
      },
      {
       "output_type": "stream",
       "stream": "stdout",
       "text": [
        "  Downloading SPARQLWrapper-1.6.4.tar.gz\r\n",
        "  Running setup.py (path:/home/user/.virtualenvs/localpy/build/SPARQLWrapper/setup.py) egg_info for package SPARQLWrapper\r\n"
       ]
      },
      {
       "output_type": "stream",
       "stream": "stdout",
       "text": [
        "    "
       ]
      },
      {
       "output_type": "stream",
       "stream": "stdout",
       "text": [
        "\r\n",
        "    warning: no previously-included files found matching 'Makefile'\r\n"
       ]
      },
      {
       "output_type": "stream",
       "stream": "stdout",
       "text": [
        "Downloading/unpacking html5lib (from rdflib)\r\n"
       ]
      },
      {
       "output_type": "stream",
       "stream": "stdout",
       "text": [
        "  Downloading html5lib-0.999.tar.gz (885kB): \r",
        "  Downloading html5lib-0.999.tar.gz (885kB):   0%  4.1kB\r",
        "  Downloading html5lib-0.999.tar.gz (885kB):   0%  8.2kB\r",
        "  Downloading html5lib-0.999.tar.gz (885kB):   1%  12kB \r",
        "  Downloading html5lib-0.999.tar.gz (885kB):   1%  16kB\r",
        "  Downloading html5lib-0.999.tar.gz (885kB):   2%  20kB\r",
        "  Downloading html5lib-0.999.tar.gz (885kB):   2%  24kB\r",
        "  Downloading html5lib-0.999.tar.gz (885kB):   3%  28kB\r",
        "  Downloading html5lib-0.999.tar.gz (885kB):   3%  32kB\r",
        "  Downloading html5lib-0.999.tar.gz (885kB):   4%  36kB\r",
        "  Downloading html5lib-0.999.tar.gz (885kB):   4%  40kB\r",
        "  Downloading html5lib-0.999.tar.gz (885kB):   5%  45kB\r",
        "  Downloading html5lib-0.999.tar.gz (885kB):   5%  49kB\r",
        "  Downloading html5lib-0.999.tar.gz (885kB):   6%  53kB\r",
        "  Downloading html5lib-0.999.tar.gz (885kB):   6%  57kB\r",
        "  Downloading html5lib-0.999.tar.gz (885kB):   6%  61kB\r",
        "  Downloading html5lib-0.999.tar.gz (885kB):   7%  65kB\r",
        "  Downloading html5lib-0.999.tar.gz (885kB):   7%  69kB\r",
        "  Downloading html5lib-0.999.tar.gz (885kB):   8%  73kB\r",
        "  Downloading html5lib-0.999.tar.gz (885kB):   8%  77kB\r",
        "  Downloading html5lib-0.999.tar.gz (885kB):   9%  81kB\r",
        "  Downloading html5lib-0.999.tar.gz (885kB):   9%  86kB\r",
        "  Downloading html5lib-0.999.tar.gz (885kB):  10%  90kB\r",
        "  Downloading html5lib-0.999.tar.gz (885kB):  10%  94kB\r",
        "  Downloading html5lib-0.999.tar.gz (885kB):  11%  98kB\r",
        "  Downloading html5lib-0.999.tar.gz (885kB):  11%  102kB\r",
        "  Downloading html5lib-0.999.tar.gz (885kB):  12%  106kB\r",
        "  Downloading html5lib-0.999.tar.gz (885kB):  12%  110kB\r",
        "  Downloading html5lib-0.999.tar.gz (885kB):  12%  114kB\r",
        "  Downloading html5lib-0.999.tar.gz (885kB):  13%  118kB\r",
        "  Downloading html5lib-0.999.tar.gz (885kB):  13%  122kB\r",
        "  Downloading html5lib-0.999.tar.gz (885kB):  14%  126kB"
       ]
      },
      {
       "output_type": "stream",
       "stream": "stdout",
       "text": [
        "\r",
        "  Downloading html5lib-0.999.tar.gz (885kB):  14%  131kB\r",
        "  Downloading html5lib-0.999.tar.gz (885kB):  15%  135kB\r",
        "  Downloading html5lib-0.999.tar.gz (885kB):  15%  139kB\r",
        "  Downloading html5lib-0.999.tar.gz (885kB):  16%  143kB\r",
        "  Downloading html5lib-0.999.tar.gz (885kB):  16%  147kB\r",
        "  Downloading html5lib-0.999.tar.gz (885kB):  17%  151kB\r",
        "  Downloading html5lib-0.999.tar.gz (885kB):  17%  155kB\r",
        "  Downloading html5lib-0.999.tar.gz (885kB):  18%  159kB\r",
        "  Downloading html5lib-0.999.tar.gz (885kB):  18%  163kB\r",
        "  Downloading html5lib-0.999.tar.gz (885kB):  18%  167kB\r",
        "  Downloading html5lib-0.999.tar.gz (885kB):  19%  172kB\r",
        "  Downloading html5lib-0.999.tar.gz (885kB):  19%  176kB\r",
        "  Downloading html5lib-0.999.tar.gz (885kB):  20%  180kB\r",
        "  Downloading html5lib-0.999.tar.gz (885kB):  20%  184kB\r",
        "  Downloading html5lib-0.999.tar.gz (885kB):  21%  188kB\r",
        "  Downloading html5lib-0.999.tar.gz (885kB):  21%  192kB\r",
        "  Downloading html5lib-0.999.tar.gz (885kB):  22%  196kB\r",
        "  Downloading html5lib-0.999.tar.gz (885kB):  22%  200kB\r",
        "  Downloading html5lib-0.999.tar.gz (885kB):  23%  204kB\r",
        "  Downloading html5lib-0.999.tar.gz (885kB):  23%  208kB\r",
        "  Downloading html5lib-0.999.tar.gz (885kB):  24%  212kB\r",
        "  Downloading html5lib-0.999.tar.gz (885kB):  24%  217kB\r",
        "  Downloading html5lib-0.999.tar.gz (885kB):  24%  221kB\r",
        "  Downloading html5lib-0.999.tar.gz (885kB):  25%  225kB"
       ]
      },
      {
       "output_type": "stream",
       "stream": "stdout",
       "text": [
        "\r",
        "  Downloading html5lib-0.999.tar.gz (885kB):  25%  229kB\r",
        "  Downloading html5lib-0.999.tar.gz (885kB):  26%  233kB\r",
        "  Downloading html5lib-0.999.tar.gz (885kB):  26%  237kB\r",
        "  Downloading html5lib-0.999.tar.gz (885kB):  27%  241kB\r",
        "  Downloading html5lib-0.999.tar.gz (885kB):  27%  245kB\r",
        "  Downloading html5lib-0.999.tar.gz (885kB):  28%  249kB\r",
        "  Downloading html5lib-0.999.tar.gz (885kB):  28%  253kB\r",
        "  Downloading html5lib-0.999.tar.gz (885kB):  29%  258kB\r",
        "  Downloading html5lib-0.999.tar.gz (885kB):  29%  262kB\r",
        "  Downloading html5lib-0.999.tar.gz (885kB):  30%  266kB\r",
        "  Downloading html5lib-0.999.tar.gz (885kB):  30%  270kB\r",
        "  Downloading html5lib-0.999.tar.gz (885kB):  30%  274kB\r",
        "  Downloading html5lib-0.999.tar.gz (885kB):  31%  278kB\r",
        "  Downloading html5lib-0.999.tar.gz (885kB):  31%  282kB\r",
        "  Downloading html5lib-0.999.tar.gz (885kB):  32%  286kB\r",
        "  Downloading html5lib-0.999.tar.gz (885kB):  32%  290kB\r",
        "  Downloading html5lib-0.999.tar.gz (885kB):  33%  294kB\r",
        "  Downloading html5lib-0.999.tar.gz (885kB):  33%  299kB\r",
        "  Downloading html5lib-0.999.tar.gz (885kB):  34%  303kB\r",
        "  Downloading html5lib-0.999.tar.gz (885kB):  34%  307kB\r",
        "  Downloading html5lib-0.999.tar.gz (885kB):  35%  311kB\r",
        "  Downloading html5lib-0.999.tar.gz (885kB):  35%  315kB\r",
        "  Downloading html5lib-0.999.tar.gz (885kB):  36%  319kB\r",
        "  Downloading html5lib-0.999.tar.gz (885kB):  36%  323kB\r",
        "  Downloading html5lib-0.999.tar.gz (885kB):  37%  327kB\r",
        "  Downloading html5lib-0.999.tar.gz (885kB):  37%  331kB\r",
        "  Downloading html5lib-0.999.tar.gz (885kB):  37%  335kB\r",
        "  Downloading html5lib-0.999.tar.gz (885kB):  38%  339kB\r",
        "  Downloading html5lib-0.999.tar.gz (885kB):  38%  344kB\r",
        "  Downloading html5lib-0.999.tar.gz (885kB):  39%  348kB\r",
        "  Downloading html5lib-0.999.tar.gz (885kB):  39%  352kB\r",
        "  Downloading html5lib-0.999.tar.gz (885kB):  40%  356kB\r",
        "  Downloading html5lib-0.999.tar.gz (885kB):  40%  360kB\r",
        "  Downloading html5lib-0.999.tar.gz (885kB):  41%  364kB\r",
        "  Downloading html5lib-0.999.tar.gz (885kB):  41%  368kB\r",
        "  Downloading html5lib-0.999.tar.gz (885kB):  42%  372kB\r",
        "  Downloading html5lib-0.999.tar.gz (885kB):  42%  376kB\r",
        "  Downloading html5lib-0.999.tar.gz (885kB):  43%  380kB\r",
        "  Downloading html5lib-0.999.tar.gz (885kB):  43%  385kB\r",
        "  Downloading html5lib-0.999.tar.gz (885kB):  43%  389kB\r",
        "  Downloading html5lib-0.999.tar.gz (885kB):  44%  393kB"
       ]
      },
      {
       "output_type": "stream",
       "stream": "stdout",
       "text": [
        "\r",
        "  Downloading html5lib-0.999.tar.gz (885kB):  44%  397kB\r",
        "  Downloading html5lib-0.999.tar.gz (885kB):  45%  401kB\r",
        "  Downloading html5lib-0.999.tar.gz (885kB):  45%  405kB\r",
        "  Downloading html5lib-0.999.tar.gz (885kB):  46%  409kB\r",
        "  Downloading html5lib-0.999.tar.gz (885kB):  46%  413kB\r",
        "  Downloading html5lib-0.999.tar.gz (885kB):  47%  417kB\r",
        "  Downloading html5lib-0.999.tar.gz (885kB):  47%  421kB\r",
        "  Downloading html5lib-0.999.tar.gz (885kB):  48%  425kB\r",
        "  Downloading html5lib-0.999.tar.gz (885kB):  48%  430kB\r",
        "  Downloading html5lib-0.999.tar.gz (885kB):  49%  434kB\r",
        "  Downloading html5lib-0.999.tar.gz (885kB):  49%  438kB\r",
        "  Downloading html5lib-0.999.tar.gz (885kB):  49%  442kB\r",
        "  Downloading html5lib-0.999.tar.gz (885kB):  50%  446kB\r",
        "  Downloading html5lib-0.999.tar.gz (885kB):  50%  450kB\r",
        "  Downloading html5lib-0.999.tar.gz (885kB):  51%  454kB\r",
        "  Downloading html5lib-0.999.tar.gz (885kB):  51%  458kB\r",
        "  Downloading html5lib-0.999.tar.gz (885kB):  52%  462kB\r",
        "  Downloading html5lib-0.999.tar.gz (885kB):  52%  466kB\r",
        "  Downloading html5lib-0.999.tar.gz (885kB):  53%  471kB\r",
        "  Downloading html5lib-0.999.tar.gz (885kB):  53%  475kB\r",
        "  Downloading html5lib-0.999.tar.gz (885kB):  54%  479kB\r",
        "  Downloading html5lib-0.999.tar.gz (885kB):  54%  483kB\r",
        "  Downloading html5lib-0.999.tar.gz (885kB):  55%  487kB\r",
        "  Downloading html5lib-0.999.tar.gz (885kB):  55%  491kB\r",
        "  Downloading html5lib-0.999.tar.gz (885kB):  55%  495kB\r",
        "  Downloading html5lib-0.999.tar.gz (885kB):  56%  499kB\r",
        "  Downloading html5lib-0.999.tar.gz (885kB):  56%  503kB\r",
        "  Downloading html5lib-0.999.tar.gz (885kB):  57%  507kB\r",
        "  Downloading html5lib-0.999.tar.gz (885kB):  57%  512kB\r",
        "  Downloading html5lib-0.999.tar.gz (885kB):  58%  516kB\r",
        "  Downloading html5lib-0.999.tar.gz (885kB):  58%  520kB\r",
        "  Downloading html5lib-0.999.tar.gz (885kB):  59%  524kB\r",
        "  Downloading html5lib-0.999.tar.gz (885kB):  59%  528kB\r",
        "  Downloading html5lib-0.999.tar.gz (885kB):  60%  532kB\r",
        "  Downloading html5lib-0.999.tar.gz (885kB):  60%  536kB\r",
        "  Downloading html5lib-0.999.tar.gz (885kB):  61%  540kB\r",
        "  Downloading html5lib-0.999.tar.gz (885kB):  61%  544kB"
       ]
      },
      {
       "output_type": "stream",
       "stream": "stdout",
       "text": [
        "\r",
        "  Downloading html5lib-0.999.tar.gz (885kB):  61%  548kB\r",
        "  Downloading html5lib-0.999.tar.gz (885kB):  62%  552kB\r",
        "  Downloading html5lib-0.999.tar.gz (885kB):  62%  557kB\r",
        "  Downloading html5lib-0.999.tar.gz (885kB):  63%  561kB\r",
        "  Downloading html5lib-0.999.tar.gz (885kB):  63%  565kB\r",
        "  Downloading html5lib-0.999.tar.gz (885kB):  64%  569kB\r",
        "  Downloading html5lib-0.999.tar.gz (885kB):  64%  573kB\r",
        "  Downloading html5lib-0.999.tar.gz (885kB):  65%  577kB\r",
        "  Downloading html5lib-0.999.tar.gz (885kB):  65%  581kB\r",
        "  Downloading html5lib-0.999.tar.gz (885kB):  66%  585kB\r",
        "  Downloading html5lib-0.999.tar.gz (885kB):  66%  589kB\r",
        "  Downloading html5lib-0.999.tar.gz (885kB):  67%  593kB\r",
        "  Downloading html5lib-0.999.tar.gz (885kB):  67%  598kB\r",
        "  Downloading html5lib-0.999.tar.gz (885kB):  68%  602kB\r",
        "  Downloading html5lib-0.999.tar.gz (885kB):  68%  606kB\r",
        "  Downloading html5lib-0.999.tar.gz (885kB):  68%  610kB\r",
        "  Downloading html5lib-0.999.tar.gz (885kB):  69%  614kB\r",
        "  Downloading html5lib-0.999.tar.gz (885kB):  69%  618kB\r",
        "  Downloading html5lib-0.999.tar.gz (885kB):  70%  622kB\r",
        "  Downloading html5lib-0.999.tar.gz (885kB):  70%  626kB\r",
        "  Downloading html5lib-0.999.tar.gz (885kB):  71%  630kB\r",
        "  Downloading html5lib-0.999.tar.gz (885kB):  71%  634kB\r",
        "  Downloading html5lib-0.999.tar.gz (885kB):  72%  638kB\r",
        "  Downloading html5lib-0.999.tar.gz (885kB):  72%  643kB\r",
        "  Downloading html5lib-0.999.tar.gz (885kB):  73%  647kB\r",
        "  Downloading html5lib-0.999.tar.gz (885kB):  73%  651kB\r",
        "  Downloading html5lib-0.999.tar.gz (885kB):  74%  655kB\r",
        "  Downloading html5lib-0.999.tar.gz (885kB):  74%  659kB\r",
        "  Downloading html5lib-0.999.tar.gz (885kB):  74%  663kB\r",
        "  Downloading html5lib-0.999.tar.gz (885kB):  75%  667kB\r",
        "  Downloading html5lib-0.999.tar.gz (885kB):  75%  671kB\r",
        "  Downloading html5lib-0.999.tar.gz (885kB):  76%  675kB\r",
        "  Downloading html5lib-0.999.tar.gz (885kB):  76%  679kB\r",
        "  Downloading html5lib-0.999.tar.gz (885kB):  77%  684kB\r",
        "  Downloading html5lib-0.999.tar.gz (885kB):  77%  688kB\r",
        "  Downloading html5lib-0.999.tar.gz (885kB):  78%  692kB\r",
        "  Downloading html5lib-0.999.tar.gz (885kB):  78%  696kB\r",
        "  Downloading html5lib-0.999.tar.gz (885kB):  79%  700kB\r",
        "  Downloading html5lib-0.999.tar.gz (885kB):  79%  704kB\r",
        "  Downloading html5lib-0.999.tar.gz (885kB):  80%  708kB\r",
        "  Downloading html5lib-0.999.tar.gz (885kB):  80%  712kB\r",
        "  Downloading html5lib-0.999.tar.gz (885kB):  80%  716kB\r",
        "  Downloading html5lib-0.999.tar.gz (885kB):  81%  720kB\r",
        "  Downloading html5lib-0.999.tar.gz (885kB):  81%  724kB\r",
        "  Downloading html5lib-0.999.tar.gz (885kB):  82%  729kB\r",
        "  Downloading html5lib-0.999.tar.gz (885kB):  82%  733kB\r",
        "  Downloading html5lib-0.999.tar.gz (885kB):  83%  737kB\r",
        "  Downloading html5lib-0.999.tar.gz (885kB):  83%  741kB\r",
        "  Downloading html5lib-0.999.tar.gz (885kB):  84%  745kB\r",
        "  Downloading html5lib-0.999.tar.gz (885kB):  84%  749kB\r",
        "  Downloading html5lib-0.999.tar.gz (885kB):  85%  753kB\r",
        "  Downloading html5lib-0.999.tar.gz (885kB):  85%  757kB\r",
        "  Downloading html5lib-0.999.tar.gz (885kB):  86%  761kB\r",
        "  Downloading html5lib-0.999.tar.gz (885kB):  86%  765kB"
       ]
      },
      {
       "output_type": "stream",
       "stream": "stdout",
       "text": [
        "\r",
        "  Downloading html5lib-0.999.tar.gz (885kB):  86%  770kB\r",
        "  Downloading html5lib-0.999.tar.gz (885kB):  87%  774kB\r",
        "  Downloading html5lib-0.999.tar.gz (885kB):  87%  778kB\r",
        "  Downloading html5lib-0.999.tar.gz (885kB):  88%  782kB\r",
        "  Downloading html5lib-0.999.tar.gz (885kB):  88%  786kB\r",
        "  Downloading html5lib-0.999.tar.gz (885kB):  89%  790kB\r",
        "  Downloading html5lib-0.999.tar.gz (885kB):  89%  794kB\r",
        "  Downloading html5lib-0.999.tar.gz (885kB):  90%  798kB\r",
        "  Downloading html5lib-0.999.tar.gz (885kB):  90%  802kB\r",
        "  Downloading html5lib-0.999.tar.gz (885kB):  91%  806kB\r",
        "  Downloading html5lib-0.999.tar.gz (885kB):  91%  811kB\r",
        "  Downloading html5lib-0.999.tar.gz (885kB):  92%  815kB\r",
        "  Downloading html5lib-0.999.tar.gz (885kB):  92%  819kB\r",
        "  Downloading html5lib-0.999.tar.gz (885kB):  92%  823kB\r",
        "  Downloading html5lib-0.999.tar.gz (885kB):  93%  827kB\r",
        "  Downloading html5lib-0.999.tar.gz (885kB):  93%  831kB\r",
        "  Downloading html5lib-0.999.tar.gz (885kB):  94%  835kB\r",
        "  Downloading html5lib-0.999.tar.gz (885kB):  94%  839kB\r",
        "  Downloading html5lib-0.999.tar.gz (885kB):  95%  843kB\r",
        "  Downloading html5lib-0.999.tar.gz (885kB):  95%  847kB\r",
        "  Downloading html5lib-0.999.tar.gz (885kB):  96%  851kB\r",
        "  Downloading html5lib-0.999.tar.gz (885kB):  96%  856kB\r",
        "  Downloading html5lib-0.999.tar.gz (885kB):  97%  860kB\r",
        "  Downloading html5lib-0.999.tar.gz (885kB):  97%  864kB\r",
        "  Downloading html5lib-0.999.tar.gz (885kB):  98%  868kB\r",
        "  Downloading html5lib-0.999.tar.gz (885kB):  98%  872kB\r",
        "  Downloading html5lib-0.999.tar.gz (885kB):  98%  876kB\r",
        "  Downloading html5lib-0.999.tar.gz (885kB):  99%  880kB\r",
        "  Downloading html5lib-0.999.tar.gz (885kB):  99%  884kB\r",
        "  Downloading html5lib-0.999.tar.gz (885kB): 100%  885kB\r",
        "  Downloading html5lib-0.999.tar.gz (885kB):            \r",
        "  Downloading html5lib-0.999.tar.gz (885kB): 885kB downloaded\r\n"
       ]
      },
      {
       "output_type": "stream",
       "stream": "stdout",
       "text": [
        "  Running setup.py (path:/home/user/.virtualenvs/localpy/build/html5lib/setup.py) egg_info for package html5lib\r\n"
       ]
      },
      {
       "output_type": "stream",
       "stream": "stdout",
       "text": [
        "    \r\n"
       ]
      },
      {
       "output_type": "stream",
       "stream": "stdout",
       "text": [
        "Downloading/unpacking six (from html5lib->rdflib)\r\n"
       ]
      },
      {
       "output_type": "stream",
       "stream": "stdout",
       "text": [
        "  Downloading six-1.8.0-py2.py3-none-any.whl\r\n",
        "Installing collected packages: rdflib, isodate, SPARQLWrapper, html5lib, six\r\n",
        "  Running setup.py install for rdflib\r\n"
       ]
      },
      {
       "output_type": "stream",
       "stream": "stdout",
       "text": [
        "    "
       ]
      },
      {
       "output_type": "stream",
       "stream": "stdout",
       "text": [
        "\r\n"
       ]
      },
      {
       "output_type": "stream",
       "stream": "stdout",
       "text": [
        "    no previously-included directories found matching 'docs/_build'\r\n"
       ]
      },
      {
       "output_type": "stream",
       "stream": "stdout",
       "text": [
        "    warning: no previously-included files matching '*.pyc' found anywhere in distribution\r\n",
        "    warning: no previously-included files matching '*$py.class' found anywhere in distribution\r\n"
       ]
      },
      {
       "output_type": "stream",
       "stream": "stdout",
       "text": [
        "    Installing rdf2dot script to /home/user/.virtualenvs/localpy/bin\r\n",
        "    Installing csv2rdf script to /home/user/.virtualenvs/localpy/bin\r\n",
        "    Installing rdfpipe script to /home/user/.virtualenvs/localpy/bin\r\n",
        "    Installing rdfs2dot script to /home/user/.virtualenvs/localpy/bin\r\n",
        "    Installing rdfgraphisomorphism script to /home/user/.virtualenvs/localpy/bin\r\n"
       ]
      },
      {
       "output_type": "stream",
       "stream": "stdout",
       "text": [
        "  Running setup.py install for isodate\r\n"
       ]
      },
      {
       "output_type": "stream",
       "stream": "stdout",
       "text": [
        "    \r\n"
       ]
      },
      {
       "output_type": "stream",
       "stream": "stdout",
       "text": [
        "  Running setup.py install for SPARQLWrapper\r\n"
       ]
      },
      {
       "output_type": "stream",
       "stream": "stdout",
       "text": [
        "    \r\n"
       ]
      },
      {
       "output_type": "stream",
       "stream": "stdout",
       "text": [
        "    warning: no previously-included files found matching 'Makefile'\r\n"
       ]
      },
      {
       "output_type": "stream",
       "stream": "stdout",
       "text": [
        "  Running setup.py install for html5lib\r\n"
       ]
      },
      {
       "output_type": "stream",
       "stream": "stdout",
       "text": [
        "    \r\n"
       ]
      },
      {
       "output_type": "stream",
       "stream": "stdout",
       "text": [
        "Successfully installed rdflib isodate SPARQLWrapper html5lib six\r\n",
        "Cleaning up...\r\n"
       ]
      }
     ],
     "prompt_number": 1
    },
    {
     "cell_type": "code",
     "collapsed": false,
     "input": [
      "import libsbml\n",
      "import tellurium as te\n",
      "import rdflib\n",
      "\n",
      "annotation = '''<?xml version=\"1.0\"?>\n",
      "  <rdf:RDF xmlns:rdf=\"http://www.w3.org/1999/02/22-rdf-syntax-ns#\" xmlns:bqmodel=\"http://biomodels.net/model-qualifiers/\" xmlns:bqbiol=\"http://biomodels.net/biology-qualifiers/\">\n",
      "    <rdf:Description rdf:about=\"#_000016\">\n",
      "      <bqbiol:is>\n",
      "        <rdf:Bag>\n",
      "          <rdf:li rdf:resource=\"http://identifiers.org/obo.go/GO:0042166\"/>\n",
      "        </rdf:Bag>\n",
      "      </bqbiol:is>\n",
      "    </rdf:Description>\n",
      "  </rdf:RDF>\n",
      "'''\n",
      "\n",
      "g = rdflib.Graph()\n",
      "g.parse(data=annotation, format=\"application/rdf+xml\" )\n",
      "\n"
     ],
     "language": "python",
     "metadata": {},
     "outputs": [
      {
       "output_type": "stream",
       "stream": "stdout",
       "text": [
        "N9975ec174087434bb816467c1064e0c1\n",
        "N9975ec174087434bb816467c1064e0c1\n",
        "#_000016\n"
       ]
      }
     ],
     "prompt_number": 10
    }
   ],
   "metadata": {}
  }
 ]
}