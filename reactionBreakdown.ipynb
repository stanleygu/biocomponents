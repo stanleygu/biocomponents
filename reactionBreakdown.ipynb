{
 "metadata": {
  "signature": "sha256:6782e6d8b89fef807192dcd35380e8a0753556ae2ff0d548d808140ebc0d7f18"
 },
 "nbformat": 3,
 "nbformat_minor": 0,
 "worksheets": [
  {
   "cells": [
    {
     "cell_type": "code",
     "collapsed": false,
     "input": [
      "class BioModel:\n",
      "    import libsbml\n",
      "\n",
      "    def __init__(self, id):\n",
      "        import urllib\n",
      "        import libsbml\n",
      "        link = \"http://www.ebi.ac.uk/biomodels-main/download?mid=\" + id\n",
      "        f = urllib.urlopen(link)\n",
      "        sbmlString = f.read()\n",
      "        self.document = libsbml.readSBMLFromString(sbmlString)\n",
      "        if self.document.getNumErrors() > 0:\n",
      "            raise Exception('Did not find valid BioModel with ID of ' + id)\n",
      "        self.model = self.document.getModel()\n",
      "        \n",
      "    def getComponents(self):\n",
      "        import libsbml\n",
      "        def getAllReactionParameters(r):\n",
      "            '''\n",
      "            Find all reactions\n",
      "            '''\n",
      "            # list to hold found parameters\n",
      "            params = []\n",
      "            # initialize frontier to search\n",
      "            frontier = []\n",
      "            for i in range(r.kinetic_law.math.getNumChildren()):\n",
      "                frontier.append(r.kinetic_law.math.getChild(i))\n",
      "            while len(frontier) > 0:\n",
      "                node = frontier.pop()\n",
      "\n",
      "                for i in range(node.getNumChildren()):\n",
      "                    frontier.append(node.getChild(i))\n",
      "\n",
      "                if node.isName() and self.model.getParameter(node.getName()):\n",
      "                    params.append(self.model.getParameter(node.getName()))\n",
      "\n",
      "            return params\n",
      "        \n",
      "        reactions = [r for r in self.model.reactions]\n",
      "\n",
      "        submodels = []\n",
      "        for r in reactions:\n",
      "            newDoc = libsbml.SBMLDocument(2, 4)\n",
      "            newMod = newDoc.createModel()\n",
      "            newMod.setId(self.model.getId() + '_' + r.getId())\n",
      "            for reactant in r.reactants:\n",
      "                s = self.model.getSpecies(reactant.getSpecies())\n",
      "                newMod.addSpecies(s.clone())\n",
      "                c = self.model.getCompartment(s.getCompartment())\n",
      "                newMod.addCompartment(c.clone())\n",
      "            for product in r.products:\n",
      "                s = self.model.getSpecies(product.getSpecies())\n",
      "                newMod.addSpecies(s.clone())\n",
      "                c = self.model.getCompartment(s.getCompartment())\n",
      "                newMod.addCompartment(c.clone())\n",
      "            for parameter in getAllReactionParameters(r):\n",
      "                newMod.addParameter(parameter.clone())\n",
      "\n",
      "\n",
      "            newMod.addReaction(r.clone())\n",
      "\n",
      "            submodels.append(newDoc)\n",
      "\n",
      "        return submodels\n",
      "    \n",
      "    def getComponentSBML(self):\n",
      "        import libsbml\n",
      "        return [libsbml.writeSBMLToString(doc) for doc in submodels]\n",
      "    \n",
      "    def getComponentAntimony(self):\n",
      "        import tellurium as te\n",
      "        return [te.sbmlToAntimony(sbml) for sbml in newSBML]\n",
      "    \n",
      "    def getMatchingSpecies(self, speciesToMatch):\n",
      "        '''\n",
      "        \n",
      "        '''\n",
      "        urisToMatch = self.getResourceUris(speciesToMatch)\n",
      "        matches = []\n",
      "        for s in self.model.species:\n",
      "            uris = self.getResourceUris(s)\n",
      "\n",
      "            if any(i in uris for i in urisToMatch):\n",
      "                matches.append(s.clone())\n",
      "        return matches\n",
      "\n",
      "                        \n",
      "    def getResourceUris(self, item):\n",
      "                        #qualifierType=libsbml.BIOLOGICAL_QUALIFIER,\n",
      "                        #biologicalQualifierType=libsbml.BQB_IS):\n",
      "        import libsbml\n",
      "        uris = []\n",
      "        for i in range(item.getNumCVTerms()):\n",
      "            term = item.getCVTerm(i)\n",
      "            #if (term.getQualifierType() == qualifierType \n",
      "            #    and term.getBiologicalQualifierType() == biologicalQualifierType):\n",
      "            for j in range(term.getNumResources()):\n",
      "                uris.append(term.getResourceURI(j))\n",
      "        return uris\n",
      "\n"
     ],
     "language": "python",
     "metadata": {},
     "outputs": [],
     "prompt_number": 115
    },
    {
     "cell_type": "code",
     "collapsed": false,
     "input": [
      "b = BioModel('BIOMD0000000042')\n",
      "b2 = BioModel('BIOMD0000000051')"
     ],
     "language": "python",
     "metadata": {},
     "outputs": [],
     "prompt_number": 118
    },
    {
     "cell_type": "code",
     "collapsed": false,
     "input": [
      "matching = [b2.getMatchingSpecies(s)\n",
      "            for s in b.model.species]\n",
      "matching = [s[0] for s in matching if len(s) > 0]\n",
      "matching"
     ],
     "language": "python",
     "metadata": {},
     "outputs": [
      {
       "metadata": {},
       "output_type": "pyout",
       "prompt_number": 119,
       "text": [
        "[<Species cglcex \"Extracellular Glucose\">,\n",
        " <Species cf6p \"Fructose-6-Phosphate\">,\n",
        " <Species cpgp \"1,3-diphosphosphoglycerate\">,\n",
        " <Species cpep \"Phosphoenol pyruvate\">,\n",
        " <Species cpyr \"Pyruvate\">]"
       ]
      }
     ],
     "prompt_number": 119
    },
    {
     "cell_type": "code",
     "collapsed": false,
     "input": [
      "!pip install git+https://github.com/stanleygu/ipython-notebook-tools.git"
     ],
     "language": "python",
     "metadata": {},
     "outputs": [
      {
       "output_type": "stream",
       "stream": "stdout",
       "text": [
        "Downloading/unpacking git+https://github.com/stanleygu/ipython-notebook-tools.git\r\n",
        "  Cloning https://github.com/stanleygu/ipython-notebook-tools.git to /tmp/pip-QmIxpe-build\r\n"
       ]
      },
      {
       "output_type": "stream",
       "stream": "stdout",
       "text": [
        "  Running setup.py (path:/tmp/pip-QmIxpe-build/setup.py) egg_info for package from git+https://github.com/stanleygu/ipython-notebook-tools.git\r\n"
       ]
      },
      {
       "output_type": "stream",
       "stream": "stdout",
       "text": [
        "    \r\n"
       ]
      },
      {
       "output_type": "stream",
       "stream": "stdout",
       "text": [
        "Installing collected packages: notebooktools\r\n",
        "  Running setup.py install for notebooktools\r\n"
       ]
      },
      {
       "output_type": "stream",
       "stream": "stdout",
       "text": [
        "    \r\n"
       ]
      },
      {
       "output_type": "stream",
       "stream": "stdout",
       "text": [
        "Successfully installed notebooktools\r\n",
        "Cleaning up...\r\n"
       ]
      }
     ],
     "prompt_number": 120
    },
    {
     "cell_type": "code",
     "collapsed": false,
     "input": [
      "first = b.getResourceUris(b.model.species[0])\n",
      "second = b2.getResourceUris(b.model.species[0])\n",
      "\n",
      "any(i in second for i in first)"
     ],
     "language": "python",
     "metadata": {},
     "outputs": [
      {
       "metadata": {},
       "output_type": "pyout",
       "prompt_number": 68,
       "text": [
        "True"
       ]
      }
     ],
     "prompt_number": 68
    },
    {
     "cell_type": "code",
     "collapsed": false,
     "input": [],
     "language": "python",
     "metadata": {},
     "outputs": [],
     "prompt_number": 67
    },
    {
     "cell_type": "code",
     "collapsed": false,
     "input": [
      "import tellurium as te\n",
      "import libsbml\n",
      "\n",
      "sbml = libsbml.writeSBMLToString(b.document)\n",
      "parser = libsbml.RDFAnnotationParser()\n",
      "\n",
      "\n",
      "s = b.document.getModel().species[0]\n",
      "parser.parseRDFAnnotation(s.getAnnotation())\n",
      "\n",
      "for i in range(s.getNumCVTerms()):\n",
      "    term = s.getCVTerm(i)\n",
      "    if (term.getQualifierType() == libsbml.BIOLOGICAL_QUALIFIER \n",
      "        and term.getBiologicalQualifierType() == libsbml.BQB_IS):\n",
      "        for j in range(term.getNumResources()):\n",
      "            print term.getResourceURI(j)\n",
      "\n",
      "b.\n"
     ],
     "language": "python",
     "metadata": {},
     "outputs": [
      {
       "output_type": "stream",
       "stream": "stdout",
       "text": [
        "http://identifiers.org/obo.chebi/CHEBI:18021\n",
        "http://identifiers.org/kegg.compound/C00074\n"
       ]
      }
     ],
     "prompt_number": 60
    },
    {
     "cell_type": "code",
     "collapsed": false,
     "input": [
      "ast = libsbml.parseFormula('k1*S1')\n",
      "libsbml.formulaToString(ast)"
     ],
     "language": "python",
     "metadata": {},
     "outputs": [
      {
       "metadata": {},
       "output_type": "pyout",
       "prompt_number": 33,
       "text": [
        "'k1 * S1'"
       ]
      }
     ],
     "prompt_number": 33
    },
    {
     "cell_type": "code",
     "collapsed": false,
     "input": [
      "libsbml.getLibSBMLVersionString()"
     ],
     "language": "python",
     "metadata": {},
     "outputs": [
      {
       "metadata": {},
       "output_type": "pyout",
       "prompt_number": 50,
       "text": [
        "'51000'"
       ]
      }
     ],
     "prompt_number": 50
    },
    {
     "cell_type": "code",
     "collapsed": false,
     "input": [
      "from libsbml import *\n",
      "layoutNsUri = \"http://projects.eml.org/bcb/sbml/level2\"\n",
      "layoutNs = LayoutPkgNamespaces(2, 4)\n",
      "renderNsUri = \"http://projects.eml.org/bcb/sbml/render/level2\"\n",
      "renderNs = RenderPkgNamespaces(2, 4)\n",
      "\n",
      "prop = ConversionProperties(SBMLNamespaces(2,4))\n",
      "prop.addOption('strict', False)\n",
      "prop.addOption('setLevelAndVersion', True)\n",
      "prop.addOption('ignorePackages', True)\n",
      "\n",
      "#b.document.convert(prop)\n",
      "\n",
      "LayoutPkgNamespaces"
     ],
     "language": "python",
     "metadata": {},
     "outputs": [
      {
       "ename": "NameError",
       "evalue": "name 'LayoutPkgNamespaces' is not defined",
       "output_type": "pyerr",
       "traceback": [
        "\u001b[1;31m---------------------------------------------------------------------------\u001b[0m\n\u001b[1;31mNameError\u001b[0m                                 Traceback (most recent call last)",
        "\u001b[1;32m<ipython-input-47-6ed50e7ff90a>\u001b[0m in \u001b[0;36m<module>\u001b[1;34m()\u001b[0m\n\u001b[0;32m      1\u001b[0m \u001b[1;32mfrom\u001b[0m \u001b[0mlibsbml\u001b[0m \u001b[1;32mimport\u001b[0m \u001b[1;33m*\u001b[0m\u001b[1;33m\u001b[0m\u001b[0m\n\u001b[0;32m      2\u001b[0m \u001b[0mlayoutNsUri\u001b[0m \u001b[1;33m=\u001b[0m \u001b[1;34m\"http://projects.eml.org/bcb/sbml/level2\"\u001b[0m\u001b[1;33m\u001b[0m\u001b[0m\n\u001b[1;32m----> 3\u001b[1;33m \u001b[0mlayoutNs\u001b[0m \u001b[1;33m=\u001b[0m \u001b[0mLayoutPkgNamespaces\u001b[0m\u001b[1;33m(\u001b[0m\u001b[1;36m2\u001b[0m\u001b[1;33m,\u001b[0m \u001b[1;36m4\u001b[0m\u001b[1;33m)\u001b[0m\u001b[1;33m\u001b[0m\u001b[0m\n\u001b[0m\u001b[0;32m      4\u001b[0m \u001b[0mrenderNsUri\u001b[0m \u001b[1;33m=\u001b[0m \u001b[1;34m\"http://projects.eml.org/bcb/sbml/render/level2\"\u001b[0m\u001b[1;33m\u001b[0m\u001b[0m\n\u001b[0;32m      5\u001b[0m \u001b[0mrenderNs\u001b[0m \u001b[1;33m=\u001b[0m \u001b[0mRenderPkgNamespaces\u001b[0m\u001b[1;33m(\u001b[0m\u001b[1;36m2\u001b[0m\u001b[1;33m,\u001b[0m \u001b[1;36m4\u001b[0m\u001b[1;33m)\u001b[0m\u001b[1;33m\u001b[0m\u001b[0m\n",
        "\u001b[1;31mNameError\u001b[0m: name 'LayoutPkgNamespaces' is not defined"
       ]
      }
     ],
     "prompt_number": 47
    }
   ],
   "metadata": {}
  }
 ]
}