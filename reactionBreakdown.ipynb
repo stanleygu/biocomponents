{
 "metadata": {
  "signature": "sha256:d52dfc3bb27c71cbeafb3882b3b7cad7987655407b4a786707047866095f0eac"
 },
 "nbformat": 3,
 "nbformat_minor": 0,
 "worksheets": [
  {
   "cells": [
    {
     "cell_type": "code",
     "collapsed": false,
     "input": [
      "import urllib\n",
      "\n",
      "link = \"https://raw.githubusercontent.com/stanleygu/biomodels_db/master/curated/BIOMD0000000001.xml\"\n",
      "f = urllib.urlopen(link)\n",
      "sbml = f.read()"
     ],
     "language": "python",
     "metadata": {},
     "outputs": [],
     "prompt_number": 8
    },
    {
     "cell_type": "code",
     "collapsed": false,
     "input": [
      "import libsbml\n",
      "\n",
      "doc = libsbml.readSBMLFromString(sbml)\n",
      "mod = doc.getModel()\n",
      "\n",
      "reactions = [r.toSBML() for r in mod.reactions]"
     ],
     "language": "python",
     "metadata": {},
     "outputs": [
      {
       "metadata": {},
       "output_type": "pyout",
       "prompt_number": 15,
       "text": [
        "17"
       ]
      }
     ],
     "prompt_number": 15
    }
   ],
   "metadata": {}
  }
 ]
}