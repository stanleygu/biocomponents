{
 "metadata": {
  "signature": "sha256:b524a0f12b65b3e9e556cab9324ae474f91d3fc7dc9b036373b955d2aa2a7c0a"
 },
 "nbformat": 3,
 "nbformat_minor": 0,
 "worksheets": [
  {
   "cells": [
    {
     "cell_type": "code",
     "collapsed": false,
     "input": [
      "import urllib\n",
      "\n",
      "link = \"https://raw.githubusercontent.com/stanleygu/biomodels_db/master/curated/BIOMD0000000001.xml\"\n",
      "f = urllib.urlopen(link)\n",
      "sbml = f.read()"
     ],
     "language": "python",
     "metadata": {},
     "outputs": [],
     "prompt_number": 1
    },
    {
     "cell_type": "code",
     "collapsed": false,
     "input": [
      "import libsbml\n",
      "\n",
      "doc = libsbml.readSBMLFromString(sbml)\n",
      "mod = doc.getModel()\n",
      "\n",
      "reactions = [r for r in mod.reactions]\n",
      "\n",
      "submodels = []\n",
      "for r in reactions[:1]:\n",
      "    newDoc = libsbml.SBMLDocument(2, 4)\n",
      "    newMod = newDoc.createModel()\n",
      "    for reactant in r.reactants:\n",
      "        s = mod.getSpecies(reactant.getSpecies())\n",
      "        newMod.addSpecies(s)\n",
      "        c = mod.getCompartment(s.getCompartment())\n",
      "        newMod.addCompartment(c)\n",
      "    for product in r.products:\n",
      "        s = mod.getSpecies(product.getSpecies())\n",
      "        newMod.addSpecies(s)\n",
      "        c = mod.getCompartment(s.getCompartment())\n",
      "        newMod.addCompartment(c)\n",
      "    for parameter in mod.parameters:\n",
      "        newMod.addParameter(parameter)\n",
      "        \n",
      "    \n",
      "    newMod.addReaction(r)\n",
      "    \n",
      "    submodels.append(newDoc)\n",
      "    "
     ],
     "language": "python",
     "metadata": {},
     "outputs": [],
     "prompt_number": 4
    },
    {
     "cell_type": "code",
     "collapsed": false,
     "input": [
      "import tellurium as te\n",
      "newSBML = [libsbml.writeSBMLToString(doc) for doc in submodels]\n",
      "print len(newSBML)"
     ],
     "language": "python",
     "metadata": {},
     "outputs": [
      {
       "output_type": "stream",
       "stream": "stdout",
       "text": [
        "1\n"
       ]
      }
     ],
     "prompt_number": 5
    },
    {
     "cell_type": "code",
     "collapsed": false,
     "input": [
      "newAntimony = [te.sbmlToAntimony(sbml) for sbml in newSBML]"
     ],
     "language": "python",
     "metadata": {},
     "outputs": [],
     "prompt_number": 6
    },
    {
     "cell_type": "code",
     "collapsed": false,
     "input": [
      "print newAntimony[0]"
     ],
     "language": "python",
     "metadata": {},
     "outputs": [
      {
       "output_type": "stream",
       "stream": "stdout",
       "text": [
        "//Created by libAntimony v2.5\n",
        "model file0()\n",
        "\n",
        "  // Compartments and Species:\n",
        "  compartment comp1;\n",
        "  species B in comp1, BL in comp1;\n",
        "\n",
        "  // Reactions:\n",
        "  React0: B -> BL; comp1*(kf_0*B - kr_0*BL);\n",
        "\n",
        "  // Species initializations:\n",
        "  B = 1.66057788110262e-21/comp1;\n",
        "  BL = 0;\n",
        "\n",
        "  // Compartment initializations:\n",
        "  comp1 = 1e-16;\n",
        "\n",
        "  // Variable initializations:\n",
        "  kf_0 = 3000;\n",
        "  kr_0 = 8000;\n",
        "  kf_1 = 1500;\n",
        "  kr_1 = 16000;\n",
        "  kf_2 = 30000;\n",
        "  kr_2 = 700;\n",
        "  kf_3 = 3000;\n",
        "  kr_3 = 8.64;\n",
        "  kf_4 = 1500;\n",
        "  kr_4 = 17.28;\n",
        "  kf_5 = 0.54;\n",
        "  kr_5 = 10800;\n",
        "  kf_6 = 130;\n",
        "  kr_6 = 2740;\n",
        "  kf_7 = 3000;\n",
        "  kr_7 = 4;\n",
        "  kf_8 = 1500;\n",
        "  kr_8 = 8;\n",
        "  kf_9 = 19.7;\n",
        "  kr_9 = 3.74;\n",
        "  kf_10 = 19.85;\n",
        "  kr_10 = 1.74;\n",
        "  kf_11 = 20;\n",
        "  kr_11 = 0.81;\n",
        "  kf_12 = 3000;\n",
        "  kr_12 = 4;\n",
        "  kf_13 = 1500;\n",
        "  kr_13 = 8;\n",
        "  kf_14 = 0.05;\n",
        "  kr_14 = 0.0012;\n",
        "  kf_15 = 0.05;\n",
        "  kr_15 = 0.0012;\n",
        "  kf_16 = 0.05;\n",
        "  kr_16 = 0.0012;\n",
        "  t2 = 20;\n",
        "\n",
        "  //Other declarations:\n",
        "  var kf_0, kf_1, kf_3, kf_4, kf_7, kf_8, kf_12, kf_13;\n",
        "  const comp1, kr_0, kr_1, kf_2, kr_2, kr_3, kr_4, kf_5, kr_5, kf_6, kr_6;\n",
        "  const kr_7, kr_8, kf_9, kr_9, kf_10, kr_10, kf_11, kr_11, kr_12, kr_13;\n",
        "  const kf_14, kr_14, kf_15, kr_15, kf_16, kr_16, t2;\n",
        "\n",
        "  //Display Names:\n",
        "  comp1 is \"compartment1\";\n",
        "  B is \"Basal\";\n",
        "  BL is \"BasalACh\";\n",
        "end\n",
        "\n"
       ]
      }
     ],
     "prompt_number": 8
    }
   ],
   "metadata": {}
  }
 ]
}